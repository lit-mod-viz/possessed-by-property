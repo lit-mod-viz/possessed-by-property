{
 "cells": [
  {
   "cell_type": "code",
   "execution_count": 1,
   "metadata": {},
   "outputs": [],
   "source": [
    "import spacy\n",
    "import textblob\n",
    "from textblob import Word"
   ]
  },
  {
   "cell_type": "code",
   "execution_count": 2,
   "metadata": {},
   "outputs": [
    {
     "data": {
      "text/plain": [
       "(str, str)"
      ]
     },
     "execution_count": 2,
     "metadata": {},
     "output_type": "execute_result"
    }
   ],
   "source": [
    "# we now would like to expand beyond our sample and ingest several texts\n",
    "\n",
    "# I suggest we experiment with Bleak House (1853) by Dickens,\n",
    "# a sprawling novel, in which two conflicting wills regarding the fate\n",
    "# of an estate, leads to a protracted legal battle. Conventinally, the list\n",
    "# of characters in the novel includes, according to Wikipedia (which we will\n",
    "# use here as an indepedently coded control--in a real paper we'd obviously\n",
    "# need a better baseline):\n",
    "\n",
    "hand_major_chars = ['Esther Summerson', 'Honoria Lady Dedlock', 'John Jarndyce', \n",
    "                    'Richard Carstone','Ada Clare', 'Harold Skimpole', 'Lawrence Boythorn', \n",
    "                    'Sir Leicester Dedlock', 'Mr Tulkinghorn, William Guppy', \n",
    "                    'Inspector Bucket', 'Mr George', 'Caddy Jellyby', 'Krook', \n",
    "                    'Jo', 'Allan Woodcourt', 'Grandfather Smallweed', 'Mr Vholes', \n",
    "                    'Conversation Kenge']\n",
    "\n",
    "hand_minor_chars = ['Mr Gridley', 'Nemo', 'Mrs Snagsby', 'Guster', 'Neckett', \n",
    "                    'Charley', 'Tom', 'Emma', 'Mrs Jellyby', 'Mr Jellyby', \n",
    "                    'Peepy Jellyby', 'Prince Turveydrop', 'Old Mr Turveydrop',\n",
    "                    'Jenny', 'Rosa', 'Hortense', 'Mrs Rouncewell', 'Mr Robert Rouncewell', \n",
    "                    'Watt Rouncewell', 'Volumnia', 'Miss Barbary', 'Mrs Rachael Chadband', \n",
    "                    'Mr Chadband', 'Mrs Smallweed', 'Young Mr Bartholemew Smallweed', \n",
    "                    'Judy Smallweed', 'Tony Jobling','Mrs Guppy', 'Phil Squod', \n",
    "                    'Matthew Bagnet', 'Mrs Bagnet', 'Woolwich', 'Quebec', 'Malta', \n",
    "                    'Mrs Woodcourt', 'Mrs Pardiggle', 'Arethusa Skimpole', \n",
    "                    'Laura Skimpole','Kitty Skimpole', 'Mrs Skimpole']\n",
    "\n",
    "# Had we time it would've been nice to test a few conventional algorithms for\n",
    "# character extraction, which rely on named entity recognition.\n",
    "#\n",
    "# We are going to take a different tack however, in that I want to build a model\n",
    "# of characther extration based on agency, not on named agency. What other agents\n",
    "# are possible? Distributed models of agency. How a Cockpit Remembers its Speed by Chalmers.\n",
    "# Airport by Hailey.\n",
    "\n",
    "# note that in Python 3 all strings are unicode strings there is no more need \n",
    "# to insist on \n",
    "a = u'hello'\n",
    "b = 'goodbye'\n",
    "\n",
    "type(a), type(b)\n",
    "\n",
    "# Python 2 would return unicode and str"
   ]
  },
  {
   "cell_type": "code",
   "execution_count": 4,
   "metadata": {},
   "outputs": [],
   "source": [
    "# initialize spacy\n",
    "nlp = spacy.load('en')\n",
    "\n",
    "# iterate over each file\n",
    "for filename in os.listdir(path):\n",
    "    with open(path + filename, 'r') as myreadfile:\n",
    "        snippet_raw = myreadfile.read()\n",
    "        snippet = nlp(snippet_raw)\n",
    "            \n",
    "            # logic goes here\n",
    "            # for something in snippet: do something\n",
    "            \n",
    "        with open(path + filename + '.output', 'w') as mywritefile:\n",
    "            # save output for further processing, for example visualization\n",
    "            # for item in things:\n",
    "            # mywritefile.write(item + '\\n')\n",
    "            \n",
    "            \n",
    "        "
   ]
  },
  {
   "cell_type": "code",
   "execution_count": null,
   "metadata": {},
   "outputs": [],
   "source": []
  }
 ],
 "metadata": {
  "kernelspec": {
   "display_name": "Python 3",
   "language": "python",
   "name": "python3"
  },
  "language_info": {
   "codemirror_mode": {
    "name": "ipython",
    "version": 3
   },
   "file_extension": ".py",
   "mimetype": "text/x-python",
   "name": "python",
   "nbconvert_exporter": "python",
   "pygments_lexer": "ipython3",
   "version": "3.6.4"
  }
 },
 "nbformat": 4,
 "nbformat_minor": 2
}

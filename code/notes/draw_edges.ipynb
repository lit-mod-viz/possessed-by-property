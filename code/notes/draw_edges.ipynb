{
 "cells": [
  {
   "cell_type": "code",
   "execution_count": null,
   "metadata": {},
   "outputs": [],
   "source": [
    "import os, csv\n",
    "import matplotlib.pyplot as plt\n",
    "import numpy as np\n",
    "import pandas as pd\n",
    "import viznet\n",
    "from viznet import NodeBrush, EdgeBrush\n",
    "from collections import Counter\n",
    "from itertools import combinations"
   ]
  },
  {
   "cell_type": "code",
   "execution_count": null,
   "metadata": {},
   "outputs": [],
   "source": [
    "#path = os.getcwd() + '/'\n",
    "path = '/home/denten/Documents/papers/projects-academic/workbench/lit-mod-viz/char-agent/corpus/airport/'"
   ]
  },
  {
   "cell_type": "code",
   "execution_count": null,
   "metadata": {},
   "outputs": [],
   "source": [
    "brush = NodeBrush('invisible', size='normal')\n",
    "edge = EdgeBrush('---', lw=1, zorder=1000)\n",
    "fs = '14'\n",
    "\n",
    "i = 0\n",
    "# draw and label actors\n",
    "for row in common_actors[0:5]:\n",
    "    node = brush >> (0,i)\n",
    "    i = i + .1\n",
    "\n",
    "    # add texts to nodes\n",
    "    node.text(row[0], 'left', fontsize=fs)\n",
    "    \n",
    "i = 0\n",
    "for row in common_benefactors[0:5]:\n",
    "    node = brush >> (.1,i)\n",
    "    i = i + .1\n",
    "\n",
    "    # add texts to nodes\n",
    "    node.text(row[0], 'right', fontsize=fs)\n",
    "    \n",
    "# draw edges\n",
    "#e12 = edge >> (node1, node2)\n",
    "#e12 = edge >> (node2, node3)\n",
    "#e12 = edge >> (node4, node2)\n",
    "     \n",
    "_show()"
   ]
  }
 ],
 "metadata": {
  "kernelspec": {
   "display_name": "Python 3",
   "language": "python",
   "name": "python3"
  },
  "language_info": {
   "codemirror_mode": {
    "name": "ipython",
    "version": 3
   },
   "file_extension": ".py",
   "mimetype": "text/x-python",
   "name": "python",
   "nbconvert_exporter": "python",
   "pygments_lexer": "ipython3",
   "version": "3.6.5"
  }
 },
 "nbformat": 4,
 "nbformat_minor": 2
}

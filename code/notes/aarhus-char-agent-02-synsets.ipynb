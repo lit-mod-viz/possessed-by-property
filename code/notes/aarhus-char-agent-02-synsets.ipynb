{
 "cells": [
  {
   "cell_type": "code",
   "execution_count": 2,
   "metadata": {},
   "outputs": [],
   "source": [
    "import spacy\n",
    "import textblob\n",
    "from textblob import Word\n",
    "from textblob import TextBlob\n",
    "\n",
    "# init to run on a new machine / env\n",
    "# import nltk\n",
    "# nltk.download('wordnet')\n",
    "# run `python -m spacy download en`\n",
    "# consider running in a virtual environment"
   ]
  },
  {
   "cell_type": "code",
   "execution_count": 3,
   "metadata": {},
   "outputs": [],
   "source": [
    "sample1 = \"\"\" Harris reached for an oxygen line immediately, and a moment \n",
    "             later Cy Jordan pressed the button that gave the passengers \n",
    "             the oxygen they needed. \"\"\""
   ]
  },
  {
   "cell_type": "code",
   "execution_count": 5,
   "metadata": {},
   "outputs": [
    {
     "data": {
      "text/plain": [
       "'those'"
      ]
     },
     "execution_count": 5,
     "metadata": {},
     "output_type": "execute_result"
    }
   ],
   "source": [
    "# we have grammar, now to meaning\n",
    "# word embedding approach and wordnet supersenses\n",
    "\n",
    "test_word = Word(\"that\")\n",
    "type(test_word)\n",
    "\n",
    "test_word.pluralize()"
   ]
  },
  {
   "cell_type": "code",
   "execution_count": 4,
   "metadata": {},
   "outputs": [
    {
     "name": "stdout",
     "output_type": "stream",
     "text": [
      "Synset('button.n.01') a round fastener sewn to shirts and coats etc to fit through buttonholes\n",
      "Synset('push_button.n.01') an electrical switch operated by pressing\n",
      "Synset('button.n.03') any of various plant parts that resemble buttons\n",
      "Synset('button.n.04') a round flat badge displaying information and suitable for pinning onto a garment\n",
      "Synset('clitoris.n.01') a female sexual organ homologous to the penis\n",
      "Synset('release.n.08') a device that when pressed will release part of a mechanism\n",
      "Synset('button.n.07') any artifact that resembles a button\n",
      "Synset('button.v.01') provide with buttons\n",
      "Synset('button.v.02') fasten with buttons\n"
     ]
    }
   ],
   "source": [
    "synsets = test_word.synsets\n",
    "for synset in synsets:\n",
    "    print(synset, synset.definition())\n",
    "    \n",
    "# try to look up differnt words"
   ]
  },
  {
   "cell_type": "code",
   "execution_count": 15,
   "metadata": {},
   "outputs": [],
   "source": [
    "test_word = Word(\"will\")\n",
    "synsets = test_word.synsets\n",
    "for synset in synsets:\n",
    "    print(synset, synset.lexname())\n",
    "    \n",
    "test_word.pos_tag"
   ]
  },
  {
   "cell_type": "code",
   "execution_count": 18,
   "metadata": {},
   "outputs": [
    {
     "data": {
      "text/plain": [
       "True"
      ]
     },
     "execution_count": 18,
     "metadata": {},
     "output_type": "execute_result"
    }
   ],
   "source": []
  },
  {
   "cell_type": "code",
   "execution_count": 24,
   "metadata": {},
   "outputs": [],
   "source": [
    "# what lex files or supersenses are available to us?\n",
    "# discuss the \"wrapping\" of objects in the relationship between NLTK and textblob\n",
    "\n",
    "# let's look at See Marie-Catherine de Marneffe and Christopher Manning, “The Stanford\n",
    "# Typed Dependencies Representation,” in *The Proceedings of the Workshop on\n",
    "# Cross-Framework and Cross-Domain Parser Evaluation* (Association for\n",
    "# Computational Linguistics, 2008)\n",
    "\n",
    "# https://wordnet.princeton.edu/documentation/lexnames5wn\n",
    "\n",
    "# who is wrapping wordnet and which version?\n",
    "\n",
    "# word embeddings would probably work better here, can be done in another pass\n",
    "# the model stays essentially the same"
   ]
  }
 ],
 "metadata": {
  "kernelspec": {
   "display_name": "Python 3",
   "language": "python",
   "name": "python3"
  },
  "language_info": {
   "codemirror_mode": {
    "name": "ipython",
    "version": 3
   },
   "file_extension": ".py",
   "mimetype": "text/x-python",
   "name": "python",
   "nbconvert_exporter": "python",
   "pygments_lexer": "ipython3",
   "version": "3.6.4"
  }
 },
 "nbformat": 4,
 "nbformat_minor": 2
}

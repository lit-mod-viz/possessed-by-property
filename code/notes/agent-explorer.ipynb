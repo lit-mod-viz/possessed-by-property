{
 "cells": [
  {
   "cell_type": "code",
   "execution_count": null,
   "metadata": {},
   "outputs": [],
   "source": [
    "# bleak house characters from wikipedia\n",
    "\n",
    "hand_major_chars = ['Esther Summerson', 'Honoria Lady Dedlock', 'John Jarndyce', \n",
    "                    'Richard Carstone','Ada Clare', 'Harold Skimpole', 'Lawrence Boythorn', \n",
    "                    'Sir Leicester Dedlock', 'Mr Tulkinghorn, William Guppy', \n",
    "                    'Inspector Bucket', 'Mr George', 'Caddy Jellyby', 'Krook', \n",
    "                    'Jo', 'Allan Woodcourt', 'Grandfather Smallweed', 'Mr Vholes', \n",
    "                    'Conversation Kenge']\n",
    "\n",
    "hand_minor_chars = ['Mr Gridley', 'Nemo', 'Mrs Snagsby', 'Guster', 'Neckett', \n",
    "                    'Charley', 'Tom', 'Emma', 'Mrs Jellyby', 'Mr Jellyby', \n",
    "                    'Peepy Jellyby', 'Prince Turveydrop', 'Old Mr Turveydrop',\n",
    "                    'Jenny', 'Rosa', 'Hortense', 'Mrs Rouncewell', 'Mr Robert Rouncewell', \n",
    "                    'Watt Rouncewell', 'Volumnia', 'Miss Barbary', 'Mrs Rachael Chadband', \n",
    "                    'Mr Chadband', 'Mrs Smallweed', 'Young Mr Bartholemew Smallweed', \n",
    "                    'Judy Smallweed', 'Tony Jobling','Mrs Guppy', 'Phil Squod', \n",
    "                    'Matthew Bagnet', 'Mrs Bagnet', 'Woolwich', 'Quebec', 'Malta', \n",
    "                    'Mrs Woodcourt', 'Mrs Pardiggle', 'Arethusa Skimpole', \n",
    "                    'Laura Skimpole','Kitty Skimpole', 'Mrs Skimpole']"
   ]
  },
  {
   "cell_type": "code",
   "execution_count": 11,
   "metadata": {},
   "outputs": [],
   "source": []
  },
  {
   "cell_type": "code",
   "execution_count": null,
   "metadata": {},
   "outputs": [],
   "source": []
  }
 ],
 "metadata": {
  "kernelspec": {
   "display_name": "Python 3",
   "language": "python",
   "name": "python3"
  },
  "language_info": {
   "codemirror_mode": {
    "name": "ipython",
    "version": 3
   },
   "file_extension": ".py",
   "mimetype": "text/x-python",
   "name": "python",
   "nbconvert_exporter": "python",
   "pygments_lexer": "ipython3",
   "version": "3.6.4"
  }
 },
 "nbformat": 4,
 "nbformat_minor": 2
}
